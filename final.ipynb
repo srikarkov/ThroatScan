{
 "cells": [
  {
   "cell_type": "code",
   "execution_count": 81,
   "metadata": {},
   "outputs": [],
   "source": [
    "import tensorflow as tf\n",
    "import os\n",
    "import glob\n",
    "import numpy as np\n",
    "import cv2\n",
    "from sklearn.model_selection import train_test_split\n",
    "from tensorflow.keras import models, layers \n",
    "from sklearn.preprocessing import LabelEncoder\n",
    "from tensorflow.keras.utils import to_categorical\n",
    "from sklearn.metrics import accuracy_score"
   ]
  },
  {
   "cell_type": "code",
   "execution_count": 82,
   "metadata": {},
   "outputs": [],
   "source": [
    "folder_path = 'C:\\\\Users\\\\mkura\\\\CongressionalAppChallenge\\\\Pharyngitis'\n",
    "\n",
    "\n",
    "files_list = glob.glob(os.path.join(folder_path,'**','*.jpg'), recursive = True)  # Creating a list for the files in the data set\n",
    "\n",
    "# Labels and Images List\n",
    "images = []\n",
    "labels12 = []\n",
    "labels = []\n",
    "\n",
    "\n",
    "# Reading the Files, Converting them to Numpy Arrays, appending the Numpy Array and Label into the lists.\n",
    "# Index's Match\n",
    "\n",
    "\n",
    "for file in files_list:\n",
    " image = cv2.imread(file)\n",
    " image_array = np.array(image)\n",
    " dirname = os.path.dirname(file)\n",
    " labels12.append(os.path.basename(dirname))\n",
    " images.append(image_array)\n",
    " labels = np.array(labels12, dtype=str)"
   ]
  },
  {
   "cell_type": "code",
   "execution_count": 83,
   "metadata": {},
   "outputs": [
    {
     "name": "stdout",
     "output_type": "stream",
     "text": [
      "(351, 64, 64, 3)\n"
     ]
    }
   ],
   "source": [
    "#Assume images is a list of NumPy arrays with varying sizes\n",
    "target_size = (64, 64)  # Target size (height, width)\n",
    "\n",
    "# Resize all images to the target size\n",
    "resized_images = []\n",
    "for image in images:\n",
    "    resized_image = cv2.resize(image, target_size)\n",
    "    resized_images.append(resized_image)\n",
    "    \n",
    "resized_images = np.array(resized_images, dtype = str)    \n",
    "\n",
    "print(resized_images.shape)"
   ]
  },
  {
   "cell_type": "code",
   "execution_count": 84,
   "metadata": {},
   "outputs": [
    {
     "name": "stdout",
     "output_type": "stream",
     "text": [
      "['no pharyngitis v2' 'no pharyngitis v2' 'no pharyngitis v2'\n",
      " 'no pharyngitis v2' 'pharyngitis v2' 'no pharyngitis v2'\n",
      " 'no pharyngitis v2' 'no pharyngitis v2' 'pharyngitis v2' 'pharyngitis v2'\n",
      " 'no pharyngitis v2' 'no pharyngitis v2' 'no pharyngitis v2'\n",
      " 'pharyngitis v2' 'no pharyngitis v2' 'pharyngitis v2' 'pharyngitis v2'\n",
      " 'pharyngitis v2' 'pharyngitis v2' 'pharyngitis v2' 'no pharyngitis v2'\n",
      " 'no pharyngitis v2' 'no pharyngitis v2' 'pharyngitis v2' 'pharyngitis v2'\n",
      " 'pharyngitis v2' 'pharyngitis v2' 'pharyngitis v2' 'no pharyngitis v2'\n",
      " 'no pharyngitis v2' 'pharyngitis v2' 'pharyngitis v2' 'pharyngitis v2'\n",
      " 'no pharyngitis v2' 'no pharyngitis v2' 'no pharyngitis v2'\n",
      " 'no pharyngitis v2' 'no pharyngitis v2' 'pharyngitis v2'\n",
      " 'no pharyngitis v2' 'pharyngitis v2' 'no pharyngitis v2' 'pharyngitis v2'\n",
      " 'no pharyngitis v2' 'no pharyngitis v2' 'pharyngitis v2' 'pharyngitis v2'\n",
      " 'pharyngitis v2' 'no pharyngitis v2' 'no pharyngitis v2'\n",
      " 'no pharyngitis v2' 'pharyngitis v2' 'no pharyngitis v2'\n",
      " 'no pharyngitis v2' 'no pharyngitis v2' 'pharyngitis v2'\n",
      " 'no pharyngitis v2' 'pharyngitis v2' 'pharyngitis v2' 'no pharyngitis v2'\n",
      " 'no pharyngitis v2' 'pharyngitis v2' 'no pharyngitis v2' 'pharyngitis v2'\n",
      " 'no pharyngitis v2' 'no pharyngitis v2' 'no pharyngitis v2'\n",
      " 'pharyngitis v2' 'pharyngitis v2' 'no pharyngitis v2' 'no pharyngitis v2'\n",
      " 'pharyngitis v2' 'no pharyngitis v2' 'no pharyngitis v2' 'pharyngitis v2'\n",
      " 'no pharyngitis v2' 'pharyngitis v2' 'no pharyngitis v2'\n",
      " 'no pharyngitis v2' 'no pharyngitis v2' 'no pharyngitis v2'\n",
      " 'no pharyngitis v2' 'no pharyngitis v2' 'pharyngitis v2' 'pharyngitis v2'\n",
      " 'no pharyngitis v2' 'no pharyngitis v2' 'no pharyngitis v2'\n",
      " 'no pharyngitis v2' 'pharyngitis v2' 'pharyngitis v2' 'pharyngitis v2'\n",
      " 'no pharyngitis v2' 'pharyngitis v2' 'no pharyngitis v2' 'pharyngitis v2'\n",
      " 'pharyngitis v2' 'pharyngitis v2' 'no pharyngitis v2' 'no pharyngitis v2'\n",
      " 'no pharyngitis v2' 'pharyngitis v2' 'no pharyngitis v2'\n",
      " 'no pharyngitis v2' 'pharyngitis v2' 'pharyngitis v2' 'no pharyngitis v2'\n",
      " 'pharyngitis v2' 'pharyngitis v2' 'pharyngitis v2' 'pharyngitis v2'\n",
      " 'no pharyngitis v2' 'pharyngitis v2' 'pharyngitis v2' 'no pharyngitis v2'\n",
      " 'pharyngitis v2' 'no pharyngitis v2' 'no pharyngitis v2' 'pharyngitis v2'\n",
      " 'no pharyngitis v2' 'pharyngitis v2' 'no pharyngitis v2' 'pharyngitis v2'\n",
      " 'no pharyngitis v2' 'pharyngitis v2' 'no pharyngitis v2'\n",
      " 'no pharyngitis v2' 'pharyngitis v2' 'no pharyngitis v2'\n",
      " 'no pharyngitis v2' 'pharyngitis v2' 'no pharyngitis v2' 'pharyngitis v2'\n",
      " 'pharyngitis v2' 'no pharyngitis v2' 'no pharyngitis v2' 'pharyngitis v2'\n",
      " 'no pharyngitis v2' 'pharyngitis v2' 'no pharyngitis v2' 'pharyngitis v2'\n",
      " 'no pharyngitis v2' 'no pharyngitis v2' 'no pharyngitis v2'\n",
      " 'no pharyngitis v2' 'no pharyngitis v2' 'no pharyngitis v2'\n",
      " 'no pharyngitis v2' 'no pharyngitis v2' 'no pharyngitis v2'\n",
      " 'no pharyngitis v2' 'pharyngitis v2' 'no pharyngitis v2' 'pharyngitis v2'\n",
      " 'no pharyngitis v2' 'no pharyngitis v2' 'pharyngitis v2'\n",
      " 'no pharyngitis v2' 'no pharyngitis v2' 'no pharyngitis v2'\n",
      " 'no pharyngitis v2' 'no pharyngitis v2' 'pharyngitis v2' 'pharyngitis v2'\n",
      " 'no pharyngitis v2' 'no pharyngitis v2' 'pharyngitis v2'\n",
      " 'no pharyngitis v2' 'pharyngitis v2' 'no pharyngitis v2'\n",
      " 'no pharyngitis v2' 'pharyngitis v2' 'pharyngitis v2' 'pharyngitis v2'\n",
      " 'no pharyngitis v2' 'pharyngitis v2' 'no pharyngitis v2' 'pharyngitis v2'\n",
      " 'pharyngitis v2' 'pharyngitis v2' 'no pharyngitis v2' 'no pharyngitis v2'\n",
      " 'no pharyngitis v2' 'no pharyngitis v2' 'pharyngitis v2'\n",
      " 'no pharyngitis v2' 'no pharyngitis v2' 'no pharyngitis v2'\n",
      " 'no pharyngitis v2' 'pharyngitis v2' 'no pharyngitis v2' 'pharyngitis v2'\n",
      " 'pharyngitis v2' 'pharyngitis v2' 'no pharyngitis v2' 'pharyngitis v2'\n",
      " 'no pharyngitis v2' 'no pharyngitis v2' 'no pharyngitis v2'\n",
      " 'no pharyngitis v2' 'no pharyngitis v2' 'no pharyngitis v2'\n",
      " 'no pharyngitis v2' 'no pharyngitis v2' 'no pharyngitis v2'\n",
      " 'pharyngitis v2' 'pharyngitis v2' 'pharyngitis v2' 'pharyngitis v2'\n",
      " 'pharyngitis v2' 'pharyngitis v2' 'pharyngitis v2' 'pharyngitis v2'\n",
      " 'pharyngitis v2' 'pharyngitis v2' 'pharyngitis v2' 'pharyngitis v2'\n",
      " 'pharyngitis v2' 'no pharyngitis v2' 'no pharyngitis v2'\n",
      " 'no pharyngitis v2' 'pharyngitis v2' 'no pharyngitis v2' 'pharyngitis v2'\n",
      " 'no pharyngitis v2' 'no pharyngitis v2' 'no pharyngitis v2'\n",
      " 'no pharyngitis v2' 'no pharyngitis v2' 'pharyngitis v2'\n",
      " 'no pharyngitis v2' 'pharyngitis v2' 'no pharyngitis v2'\n",
      " 'no pharyngitis v2' 'pharyngitis v2' 'pharyngitis v2' 'no pharyngitis v2'\n",
      " 'no pharyngitis v2' 'pharyngitis v2' 'no pharyngitis v2' 'pharyngitis v2'\n",
      " 'no pharyngitis v2' 'pharyngitis v2' 'pharyngitis v2' 'pharyngitis v2'\n",
      " 'no pharyngitis v2' 'no pharyngitis v2' 'no pharyngitis v2'\n",
      " 'no pharyngitis v2' 'pharyngitis v2' 'no pharyngitis v2'\n",
      " 'no pharyngitis v2' 'no pharyngitis v2' 'no pharyngitis v2'\n",
      " 'pharyngitis v2' 'pharyngitis v2' 'no pharyngitis v2' 'pharyngitis v2'\n",
      " 'no pharyngitis v2' 'pharyngitis v2' 'no pharyngitis v2' 'pharyngitis v2'\n",
      " 'pharyngitis v2' 'pharyngitis v2' 'no pharyngitis v2' 'no pharyngitis v2'\n",
      " 'no pharyngitis v2' 'no pharyngitis v2' 'no pharyngitis v2'\n",
      " 'pharyngitis v2' 'pharyngitis v2' 'no pharyngitis v2' 'pharyngitis v2'\n",
      " 'no pharyngitis v2' 'no pharyngitis v2' 'no pharyngitis v2'\n",
      " 'no pharyngitis v2' 'pharyngitis v2' 'pharyngitis v2' 'no pharyngitis v2']\n"
     ]
    }
   ],
   "source": [
    "X_train, X_test, y_train, y_test = train_test_split(resized_images, labels, test_size=0.2, random_state=42) \n",
    "\n",
    "print(y_train)"
   ]
  },
  {
   "cell_type": "code",
   "execution_count": 85,
   "metadata": {},
   "outputs": [],
   "source": [
    "# Initialize LabelEncoder\n",
    "label_encoder = LabelEncoder()\n",
    "\n",
    "# Fit and transform labels to integer values\n",
    "y_train = label_encoder.fit_transform(y_train)\n",
    "y_test = label_encoder.transform(y_test)\n",
    "\n",
    "\n",
    "\n",
    "num_classes = len(np.unique(y_train))  # Number of unique labels\n",
    "\n",
    "# Convert labels to one-hot encoding\n",
    "y_train_one_hot = to_categorical(y_train, num_classes=num_classes)\n",
    "y_test_one_hot = to_categorical(y_test, num_classes=num_classes)\n",
    "\n",
    "X_train = X_train.astype('float32') / 255.0  # Normalize to [0, 1] if using float32\n",
    "X_test = X_test.astype('float32') / 255.0\n"
   ]
  },
  {
   "cell_type": "code",
   "execution_count": 86,
   "metadata": {},
   "outputs": [
    {
     "name": "stderr",
     "output_type": "stream",
     "text": [
      "c:\\Users\\mkura\\AppData\\Local\\Programs\\Python\\Python312\\Lib\\site-packages\\keras\\src\\layers\\convolutional\\base_conv.py:107: UserWarning: Do not pass an `input_shape`/`input_dim` argument to a layer. When using Sequential models, prefer using an `Input(shape)` object as the first layer in the model instead.\n",
      "  super().__init__(activity_regularizer=activity_regularizer, **kwargs)\n"
     ]
    }
   ],
   "source": [
    "num_classes = 2  # Update this based on your dataset\n",
    "\n",
    "# Convert labels to one-hot encoding\n",
    "y_train_one_hot = to_categorical(y_train, num_classes=num_classes)\n",
    "\n",
    "model = models.Sequential([\n",
    "    layers.Conv2D(32, (3, 3), activation='relu', input_shape=(64, 64, 3)),\n",
    "    layers.MaxPooling2D((2, 2)),\n",
    "    layers.Conv2D(64, (3, 3), activation='relu'),\n",
    "    layers.MaxPooling2D((2, 2)),\n",
    "    layers.Conv2D(64, (3, 3), activation='relu'),\n",
    "    layers.Flatten(),\n",
    "    layers.Dense(64, activation='relu'),\n",
    "    layers.Dense(2, activation='softmax')\n",
    "])\n",
    "\n",
    "\n",
    "# Compile the model\n",
    "model.compile(optimizer='adam',\n",
    "              loss='categorical_crossentropy',\n",
    "              metrics=['accuracy'])\n",
    "\n"
   ]
  },
  {
   "cell_type": "code",
   "execution_count": 87,
   "metadata": {},
   "outputs": [
    {
     "name": "stdout",
     "output_type": "stream",
     "text": [
      "Epoch 1/30\n",
      "\u001b[1m9/9\u001b[0m \u001b[32m━━━━━━━━━━━━━━━━━━━━\u001b[0m\u001b[37m\u001b[0m \u001b[1m1s\u001b[0m 29ms/step - accuracy: 0.4714 - loss: 0.7249\n",
      "Epoch 2/30\n",
      "\u001b[1m9/9\u001b[0m \u001b[32m━━━━━━━━━━━━━━━━━━━━\u001b[0m\u001b[37m\u001b[0m \u001b[1m0s\u001b[0m 28ms/step - accuracy: 0.6013 - loss: 0.6790\n",
      "Epoch 3/30\n",
      "\u001b[1m9/9\u001b[0m \u001b[32m━━━━━━━━━━━━━━━━━━━━\u001b[0m\u001b[37m\u001b[0m \u001b[1m0s\u001b[0m 29ms/step - accuracy: 0.5802 - loss: 0.6492\n",
      "Epoch 4/30\n",
      "\u001b[1m9/9\u001b[0m \u001b[32m━━━━━━━━━━━━━━━━━━━━\u001b[0m\u001b[37m\u001b[0m \u001b[1m0s\u001b[0m 29ms/step - accuracy: 0.6322 - loss: 0.6372\n",
      "Epoch 5/30\n",
      "\u001b[1m9/9\u001b[0m \u001b[32m━━━━━━━━━━━━━━━━━━━━\u001b[0m\u001b[37m\u001b[0m \u001b[1m0s\u001b[0m 42ms/step - accuracy: 0.7385 - loss: 0.5371\n",
      "Epoch 6/30\n",
      "\u001b[1m9/9\u001b[0m \u001b[32m━━━━━━━━━━━━━━━━━━━━\u001b[0m\u001b[37m\u001b[0m \u001b[1m0s\u001b[0m 33ms/step - accuracy: 0.7176 - loss: 0.5375\n",
      "Epoch 7/30\n",
      "\u001b[1m9/9\u001b[0m \u001b[32m━━━━━━━━━━━━━━━━━━━━\u001b[0m\u001b[37m\u001b[0m \u001b[1m0s\u001b[0m 31ms/step - accuracy: 0.7605 - loss: 0.5092\n",
      "Epoch 8/30\n",
      "\u001b[1m9/9\u001b[0m \u001b[32m━━━━━━━━━━━━━━━━━━━━\u001b[0m\u001b[37m\u001b[0m \u001b[1m0s\u001b[0m 28ms/step - accuracy: 0.7570 - loss: 0.4657\n",
      "Epoch 9/30\n",
      "\u001b[1m9/9\u001b[0m \u001b[32m━━━━━━━━━━━━━━━━━━━━\u001b[0m\u001b[37m\u001b[0m \u001b[1m0s\u001b[0m 29ms/step - accuracy: 0.7860 - loss: 0.4497\n",
      "Epoch 10/30\n",
      "\u001b[1m9/9\u001b[0m \u001b[32m━━━━━━━━━━━━━━━━━━━━\u001b[0m\u001b[37m\u001b[0m \u001b[1m0s\u001b[0m 29ms/step - accuracy: 0.7946 - loss: 0.4489\n",
      "Epoch 11/30\n",
      "\u001b[1m9/9\u001b[0m \u001b[32m━━━━━━━━━━━━━━━━━━━━\u001b[0m\u001b[37m\u001b[0m \u001b[1m0s\u001b[0m 29ms/step - accuracy: 0.8292 - loss: 0.3863\n",
      "Epoch 12/30\n",
      "\u001b[1m9/9\u001b[0m \u001b[32m━━━━━━━━━━━━━━━━━━━━\u001b[0m\u001b[37m\u001b[0m \u001b[1m0s\u001b[0m 28ms/step - accuracy: 0.8523 - loss: 0.3197\n",
      "Epoch 13/30\n",
      "\u001b[1m9/9\u001b[0m \u001b[32m━━━━━━━━━━━━━━━━━━━━\u001b[0m\u001b[37m\u001b[0m \u001b[1m0s\u001b[0m 30ms/step - accuracy: 0.8843 - loss: 0.2930\n",
      "Epoch 14/30\n",
      "\u001b[1m9/9\u001b[0m \u001b[32m━━━━━━━━━━━━━━━━━━━━\u001b[0m\u001b[37m\u001b[0m \u001b[1m0s\u001b[0m 29ms/step - accuracy: 0.8555 - loss: 0.3130\n",
      "Epoch 15/30\n",
      "\u001b[1m9/9\u001b[0m \u001b[32m━━━━━━━━━━━━━━━━━━━━\u001b[0m\u001b[37m\u001b[0m \u001b[1m0s\u001b[0m 27ms/step - accuracy: 0.8990 - loss: 0.2332\n",
      "Epoch 16/30\n",
      "\u001b[1m9/9\u001b[0m \u001b[32m━━━━━━━━━━━━━━━━━━━━\u001b[0m\u001b[37m\u001b[0m \u001b[1m0s\u001b[0m 28ms/step - accuracy: 0.9294 - loss: 0.1998\n",
      "Epoch 17/30\n",
      "\u001b[1m9/9\u001b[0m \u001b[32m━━━━━━━━━━━━━━━━━━━━\u001b[0m\u001b[37m\u001b[0m \u001b[1m0s\u001b[0m 30ms/step - accuracy: 0.9143 - loss: 0.1863\n",
      "Epoch 18/30\n",
      "\u001b[1m9/9\u001b[0m \u001b[32m━━━━━━━━━━━━━━━━━━━━\u001b[0m\u001b[37m\u001b[0m \u001b[1m0s\u001b[0m 30ms/step - accuracy: 0.9565 - loss: 0.1475\n",
      "Epoch 19/30\n",
      "\u001b[1m9/9\u001b[0m \u001b[32m━━━━━━━━━━━━━━━━━━━━\u001b[0m\u001b[37m\u001b[0m \u001b[1m0s\u001b[0m 30ms/step - accuracy: 0.9577 - loss: 0.1091\n",
      "Epoch 20/30\n",
      "\u001b[1m9/9\u001b[0m \u001b[32m━━━━━━━━━━━━━━━━━━━━\u001b[0m\u001b[37m\u001b[0m \u001b[1m0s\u001b[0m 29ms/step - accuracy: 0.9802 - loss: 0.0809\n",
      "Epoch 21/30\n",
      "\u001b[1m9/9\u001b[0m \u001b[32m━━━━━━━━━━━━━━━━━━━━\u001b[0m\u001b[37m\u001b[0m \u001b[1m0s\u001b[0m 29ms/step - accuracy: 0.9818 - loss: 0.0586\n",
      "Epoch 22/30\n",
      "\u001b[1m9/9\u001b[0m \u001b[32m━━━━━━━━━━━━━━━━━━━━\u001b[0m\u001b[37m\u001b[0m \u001b[1m0s\u001b[0m 29ms/step - accuracy: 1.0000 - loss: 0.0314\n",
      "Epoch 23/30\n",
      "\u001b[1m9/9\u001b[0m \u001b[32m━━━━━━━━━━━━━━━━━━━━\u001b[0m\u001b[37m\u001b[0m \u001b[1m0s\u001b[0m 29ms/step - accuracy: 1.0000 - loss: 0.0118\n",
      "Epoch 24/30\n",
      "\u001b[1m9/9\u001b[0m \u001b[32m━━━━━━━━━━━━━━━━━━━━\u001b[0m\u001b[37m\u001b[0m \u001b[1m0s\u001b[0m 29ms/step - accuracy: 1.0000 - loss: 0.0100\n",
      "Epoch 25/30\n",
      "\u001b[1m9/9\u001b[0m \u001b[32m━━━━━━━━━━━━━━━━━━━━\u001b[0m\u001b[37m\u001b[0m \u001b[1m0s\u001b[0m 28ms/step - accuracy: 1.0000 - loss: 0.0053\n",
      "Epoch 26/30\n",
      "\u001b[1m9/9\u001b[0m \u001b[32m━━━━━━━━━━━━━━━━━━━━\u001b[0m\u001b[37m\u001b[0m \u001b[1m0s\u001b[0m 28ms/step - accuracy: 1.0000 - loss: 0.0039\n",
      "Epoch 27/30\n",
      "\u001b[1m9/9\u001b[0m \u001b[32m━━━━━━━━━━━━━━━━━━━━\u001b[0m\u001b[37m\u001b[0m \u001b[1m0s\u001b[0m 27ms/step - accuracy: 1.0000 - loss: 0.0026\n",
      "Epoch 28/30\n",
      "\u001b[1m9/9\u001b[0m \u001b[32m━━━━━━━━━━━━━━━━━━━━\u001b[0m\u001b[37m\u001b[0m \u001b[1m0s\u001b[0m 28ms/step - accuracy: 1.0000 - loss: 0.0020\n",
      "Epoch 29/30\n",
      "\u001b[1m9/9\u001b[0m \u001b[32m━━━━━━━━━━━━━━━━━━━━\u001b[0m\u001b[37m\u001b[0m \u001b[1m0s\u001b[0m 28ms/step - accuracy: 1.0000 - loss: 0.0019\n",
      "Epoch 30/30\n",
      "\u001b[1m9/9\u001b[0m \u001b[32m━━━━━━━━━━━━━━━━━━━━\u001b[0m\u001b[37m\u001b[0m \u001b[1m0s\u001b[0m 28ms/step - accuracy: 1.0000 - loss: 0.0017\n"
     ]
    },
    {
     "data": {
      "text/plain": [
       "<keras.src.callbacks.history.History at 0x18fe4e1e300>"
      ]
     },
     "execution_count": 87,
     "metadata": {},
     "output_type": "execute_result"
    }
   ],
   "source": [
    "model.fit(X_train, y_train_one_hot, epochs=30, batch_size=32)\n"
   ]
  },
  {
   "cell_type": "code",
   "execution_count": 88,
   "metadata": {},
   "outputs": [
    {
     "name": "stdout",
     "output_type": "stream",
     "text": [
      "\u001b[1m3/3\u001b[0m \u001b[32m━━━━━━━━━━━━━━━━━━━━\u001b[0m\u001b[37m\u001b[0m \u001b[1m1s\u001b[0m 72ms/step\n",
      "Test accuracy: 0.7605633802816901\n"
     ]
    }
   ],
   "source": [
    "# Get predicted probabilities\n",
    "y_pred_prob = model.predict(X_test)\n",
    "\n",
    "# Convert probabilities to class labels\n",
    "y_pred = np.argmax(y_pred_prob, axis=1)\n",
    "\n",
    "# Convert one-hot encoded y_test to class labels if it's still one-hot encoded\n",
    "y_test_labels = np.argmax(y_test_one_hot, axis=1)\n",
    "\n",
    "# Calculate and print accuracy\n",
    "accuracy = accuracy_score(y_test_labels, y_pred)\n",
    "print('Test accuracy:', accuracy)"
   ]
  },
  {
   "cell_type": "code",
   "execution_count": 89,
   "metadata": {},
   "outputs": [
    {
     "name": "stderr",
     "output_type": "stream",
     "text": [
      "WARNING:absl:You are saving your model as an HDF5 file via `model.save()` or `keras.saving.save_model(model)`. This file format is considered legacy. We recommend using instead the native Keras format, e.g. `model.save('my_model.keras')` or `keras.saving.save_model(model, 'my_model.keras')`. \n"
     ]
    },
    {
     "ename": "",
     "evalue": "",
     "output_type": "error",
     "traceback": [
      "\u001b[1;31mThe Kernel crashed while executing code in the current cell or a previous cell. \n",
      "\u001b[1;31mPlease review the code in the cell(s) to identify a possible cause of the failure. \n",
      "\u001b[1;31mClick <a href='https://aka.ms/vscodeJupyterKernelCrash'>here</a> for more info. \n",
      "\u001b[1;31mView Jupyter <a href='command:jupyter.viewOutput'>log</a> for further details."
     ]
    }
   ],
   "source": [
    "model.save('C:\\\\Users\\\\mkura\\\\CongressionalAppChallenge\\\\Pharyngitis.hdf5')  # Saving as .keras"
   ]
  }
 ],
 "metadata": {
  "kernelspec": {
   "display_name": "Python 3",
   "language": "python",
   "name": "python3"
  },
  "language_info": {
   "codemirror_mode": {
    "name": "ipython",
    "version": 3
   },
   "file_extension": ".py",
   "mimetype": "text/x-python",
   "name": "python",
   "nbconvert_exporter": "python",
   "pygments_lexer": "ipython3",
   "version": "3.12.2"
  }
 },
 "nbformat": 4,
 "nbformat_minor": 2
}
